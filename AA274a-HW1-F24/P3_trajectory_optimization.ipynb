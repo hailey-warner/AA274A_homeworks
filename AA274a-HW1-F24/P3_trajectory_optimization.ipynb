{
 "cells": [
  {
   "cell_type": "markdown",
   "metadata": {
    "id": "WshFeYmnY8sT"
   },
   "source": [
    "# HW1 AA274A Problem 3\n",
    "\n",
    "In this problem, you will write a trajectory optimization algorithm to generate a feasible trajectory subject to some constraints. Our setup includes the \"ego\" vehicle (meaning the agent we control), a static obstacle, and a goal position to be reached.\n",
    "\n",
    "In this setup, we will not make the assumption of differential flatness and instead solve the problem with a nonlinear optimizer!\n"
   ]
  },
  {
   "cell_type": "markdown",
   "metadata": {
    "id": "Z09yDOn0fSvM"
   },
   "source": [
    "# Problem Setup\n",
    "We will first consider the case in which we are trying to generate a trajectory for a Turtlebot that must avoid an object. The agent has an initial position, a goal position, and a big obstacle in the center of the initial path. Our agent therefore must generate a trajectory that is dynamically feasible, does not collide with the obstacle, and reaches the final goal pose."
   ]
  },
  {
   "cell_type": "code",
   "execution_count": 33,
   "metadata": {
    "id": "8dsWwGaDcwdY"
   },
   "outputs": [],
   "source": [
    "import numpy as np\n",
    "import matplotlib.pyplot as plt\n",
    "from scipy.optimize import minimize, Bounds\n",
    "import typing as T"
   ]
  },
  {
   "cell_type": "code",
   "execution_count": 34,
   "metadata": {
    "id": "jfWNEbKMhCio"
   },
   "outputs": [],
   "source": [
    "from utils import simulate_car_dyn, maybe_makedirs\n"
   ]
  },
  {
   "cell_type": "code",
   "execution_count": 35,
   "metadata": {
    "id": "aXBY0tKZY-QT"
   },
   "outputs": [],
   "source": [
    "# Initial conditions and parameters\n",
    "EGO_START_POS, EGO_FINAL_GOAL_POS = (0.0,0.0), (5.0,5.0)\n",
    "EGO_RADIUS, OBS_RADIUS = 0.1, 0.3\n",
    "OBSTACLE_POS = (2.5, 2.5)"
   ]
  },
  {
   "cell_type": "markdown",
   "metadata": {
    "id": "Lb1lyHx8fwKB"
   },
   "source": [
    "# Visualizing the Scene"
   ]
  },
  {
   "cell_type": "code",
   "execution_count": 36,
   "metadata": {
    "id": "3qsiPYMzchxf"
   },
   "outputs": [],
   "source": [
    "def render_scene(traj=None, print_alpha=None):\n",
    "  fig, ax = plt.subplots()\n",
    "  ego_circle_start = plt.Circle(EGO_START_POS, radius=EGO_RADIUS, color='lime')\n",
    "  ego_circle_end   = plt.Circle(EGO_FINAL_GOAL_POS, radius=EGO_RADIUS, color='red')\n",
    "  obs_circle       = plt.Circle(OBSTACLE_POS, radius=OBS_RADIUS, color='blue')\n",
    "  ax.add_patch(obs_circle)\n",
    "  if traj is not None:\n",
    "    for i in range(traj.shape[0]):\n",
    "      x,y,theta = traj[i]\n",
    "      ego_circle_current = plt.Circle((x, y), radius=EGO_RADIUS, color='cyan')\n",
    "      ax.add_patch(ego_circle_current)\n",
    "      ego_arrow_current = plt.arrow(x, y, dx=np.cos(theta)/2, dy=np.sin(theta)/2, head_width=0.1)\n",
    "      ax.add_patch(ego_arrow_current)\n",
    "  ax.add_patch(ego_circle_start)\n",
    "  ax.add_patch(ego_circle_end)\n",
    "  ax.set_xlim((-1.0, 6.0))\n",
    "  ax.set_ylim((-1.0, 6.0))\n",
    "  ax.set_aspect('equal')\n",
    "  if print_alpha is not None:\n",
    "    plt.title(\"Alpha: {:.2f}\".format(print_alpha))\n",
    "  return plt"
   ]
  },
  {
   "cell_type": "code",
   "execution_count": 37,
   "metadata": {
    "colab": {
     "base_uri": "https://localhost:8080/",
     "height": 435
    },
    "executionInfo": {
     "elapsed": 274,
     "status": "ok",
     "timestamp": 1696018252736,
     "user": {
      "displayName": "Keiko Nagami",
      "userId": "10093190229210908038"
     },
     "user_tz": 420
    },
    "id": "sa-nhG64dMlw",
    "outputId": "0c6b3ccf-bc22-4300-cd3a-121b6664a067"
   },
   "outputs": [
    {
     "data": {
      "image/png": "[encoded data removed]",
      "text/plain": [
       "<Figure size 640x480 with 1 Axes>"
      ]
     },
     "metadata": {},
     "output_type": "display_data"
    }
   ],
   "source": [
    "# VIZUALIZE THE INITIAL SCENE\n",
    "# RED circle is the obstacle\n",
    "# GREEN is ego start position\n",
    "# BLUE is obstacle position\n",
    "plt = render_scene()\n",
    "plt.show()"
   ]
  },
  {
   "cell_type": "markdown",
   "metadata": {
    "id": "N2rPg41Ohu6E"
   },
   "source": [
    "## Code Setup\n",
    "\n",
    "Here we will define some essential values for our problem (such as the initial state, final state, etc.). We have also provided two helper functions that may be useful for you!\n",
    "\n",
    "**TODO:** Fill in code for the initial and final state of the ego agent below. Some hints are provided in the code comments"
   ]
  },
  {
   "cell_type": "code",
   "execution_count": 38,
   "metadata": {
    "id": "pm850gRihuEZ"
   },
   "outputs": [],
   "source": [
    "############################## Code starts here ##############################\n",
    "# TODO: Define the initial and final state as numpy arrays for the ego agent here\n",
    "# HINTS: Our state is a 3 dimensional vector [x, y, heading].\n",
    "s_0 = np.array([0, 0, np.pi/2])  # Initial state.\n",
    "s_f = np.array([5, 5, np.pi/2])  # Final state.\n",
    "############################## Code ends here ##############################\n",
    "\n",
    "N = 50  # Number of time discretization nodes (0, 1, ... N).\n",
    "s_dim = 3  # State dimension; 3 for (x, y, th).\n",
    "u_dim = 2  # Control dimension; 2 for (V, om).\n",
    "v_max = 0.5  # Maximum linear velocity.\n",
    "om_max = 1.0  # Maximum angular velocity.\n",
    "\n",
    "def pack_decision_variables(t_f: float, s: np.ndarray, u: np.ndarray) -> np.ndarray:\n",
    "    \"\"\"Packs decision variables (final time, states, controls) into a 1D vector.\n",
    "\n",
    "    Args:\n",
    "        t_f: Final time, a scalar.\n",
    "        s: States, an array of shape (N + 1, s_dim).\n",
    "        u: Controls, an array of shape (N, u_dim).\n",
    "\n",
    "    Returns:\n",
    "        An array `z` of shape (1 + (N + 1) * s_dim + N * u_dim,).\n",
    "    \"\"\"\n",
    "    return np.concatenate([[t_f], s.ravel(), u.ravel()])\n",
    "\n",
    "\n",
    "def unpack_decision_variables(z: np.ndarray) -> T.Tuple[float, np.ndarray, np.ndarray]:\n",
    "    \"\"\"Unpacks a 1D vector into decision variables (final time, states, controls).\n",
    "\n",
    "    Args:\n",
    "        z: An array of shape (1 + (N + 1) * s_dim + N * u_dim,).\n",
    "\n",
    "    Returns:\n",
    "        t_f: Final time, a scalar.\n",
    "        s: States, an array of shape (N + 1, s_dim).\n",
    "        u: Controls, an array of shape (N, u_dim).\n",
    "    \"\"\"\n",
    "    t_f = float(z[0])\n",
    "    s = z[1:1 + (N + 1) * s_dim].reshape(N + 1, s_dim)\n",
    "    u = z[-N * u_dim:].reshape(N, u_dim)\n",
    "    return t_f, s, u"
   ]
  },
  {
   "cell_type": "markdown",
   "metadata": {
    "id": "Tnq6CNk7g2A2"
   },
   "source": [
    "## Trajectory Optimization\n",
    "\n",
    "Next, we will define a function to set up and solve the trajectory optimization problem. Consider the following questions:\n",
    "\n",
    "\n",
    "\n",
    "1.   What is the cost for a given trajectory?\n",
    "2.   What are the **constraints** that the trajectory must obey? Constraints here are *equality* constraints.\n",
    "\n",
    "We will use scipy.optimize.minimize to solve this nonlinear optimization problem. You can find some documentation for this function [here](https://docs.scipy.org/doc/scipy/reference/generated/scipy.optimize.minimize.html)\n",
    "\n"
   ]
  },
  {
   "cell_type": "code",
   "execution_count": 39,
   "metadata": {
    "id": "Ku5f2oEudUyJ"
   },
   "outputs": [],
   "source": [
    "def optimize_trajectory(\n",
    "    time_weight: float = 1.0,\n",
    "    verbose: bool = True\n",
    "):\n",
    "    \"\"\"Computes the optimal trajectory as a function of `time_weight`.\n",
    "\n",
    "    Args:\n",
    "        time_weight: \\alpha in the HW writeup.\n",
    "\n",
    "    Returns:\n",
    "        t_f_opt: Final time, a scalar.\n",
    "        s_opt: States, an array of shape (N + 1, s_dim).\n",
    "        u_opt: Controls, an array of shape (N, u_dim).\n",
    "    \"\"\"\n",
    "\n",
    "    def cost(z):\n",
    "        ############################## Code starts here ##############################\n",
    "        # TODO: Define a cost function here\n",
    "        # HINT: you may find `unpack_decision_variables` useful here. z is the packed 1D representation of t,s and u. Return the value of the cost.\n",
    "        t_f, s, u = unpack_decision_variables(z)\n",
    "        dt = t_f / N\n",
    "        V = u[:, 0]\n",
    "        om = u[:, 1]\n",
    "        J = time_weight * t_f + dt * np.sum(V**2 + om**2)\n",
    "        return J\n",
    "        ############################## Code ends here ##############################\n",
    "\n",
    "    # Initialize the trajectory with a straight line\n",
    "    z_guess = pack_decision_variables(\n",
    "        20, s_0 + np.linspace(0, 1, N + 1)[:, np.newaxis] * (s_f - s_0),\n",
    "        np.ones(N * u_dim))\n",
    "\n",
    "    # Minimum and Maximum bounds on states and controls\n",
    "    # This is because we would want to include safety limits\n",
    "    # for omega (steering) and velocity (speed limit)\n",
    "    bounds = Bounds(\n",
    "        pack_decision_variables(\n",
    "            0., -np.inf * np.ones((N + 1, s_dim)),\n",
    "            np.array([0.01, -om_max]) * np.ones((N, u_dim))),\n",
    "        pack_decision_variables(\n",
    "            np.inf, np.inf * np.ones((N + 1, s_dim)),\n",
    "            np.array([v_max, om_max]) * np.ones((N, u_dim)))\n",
    "    )\n",
    "\n",
    "    # Define the equality constraints\n",
    "    def eq_constraints(z):\n",
    "        t_f, s, u = unpack_decision_variables(z)\n",
    "        dt = t_f / N\n",
    "        constraint_list = []\n",
    "        for i in range(N):\n",
    "            V, om = u[i]\n",
    "            x, y, th = s[i]\n",
    "            ############################## Code starts here ##############################\n",
    "            # TODO: Append to `constraint_list` with dynanics constraints\n",
    "            x_next, y_next, th_next = s[i+1]\n",
    "            constraint_list.append([x_next-(x + V*np.cos(th)*dt), y_next-(y + V*np.sin(th)*dt), th_next-(th + om*dt)])\n",
    "            ############################## Code ends here ##############################\n",
    "\n",
    "        ############################## Code starts here ##############################\n",
    "        # TODO: Append to `constraint_list` with initial and final state constraints\n",
    "        constraint_list.append(s[0]-s_0)\n",
    "        constraint_list.append(s[-1]-s_f)\n",
    "        ############################## Code ends here ##############################\n",
    "        return np.concatenate(constraint_list)\n",
    "\n",
    "    # Define the inequality constraints\n",
    "    def ineq_constraints(z):\n",
    "      t_f, s, u = unpack_decision_variables(z)\n",
    "      dt = t_f / N\n",
    "      constraint_list = []\n",
    "      for i in range(N):\n",
    "          V, om = u[i]\n",
    "          x, y, th = s[i]\n",
    "          ############################## Code starts here ##############################\n",
    "          # TODO: Append to `constraint_list` with collision avoidance constraint\n",
    "          constraint_list.append(np.sqrt((x-OBSTACLE_POS[0])**2 + (y-OBSTACLE_POS[1])**2) - (EGO_RADIUS + OBS_RADIUS))\n",
    "          ############################## Code ends here ################################\n",
    "      return np.array(constraint_list)\n",
    "\n",
    "    result = minimize(cost,\n",
    "                      z_guess,\n",
    "                      bounds=bounds,\n",
    "                      constraints=[{\n",
    "                          'type': 'eq',\n",
    "                          'fun': eq_constraints\n",
    "                      },\n",
    "                      {\n",
    "                          'type': 'ineq',\n",
    "                          'fun': ineq_constraints\n",
    "                      }])\n",
    "    if verbose:\n",
    "        print(result)\n",
    "\n",
    "    return unpack_decision_variables(result.x)"
   ]
  },
  {
   "cell_type": "code",
   "execution_count": 40,
   "metadata": {
    "id": "EfGNzPN8jHST"
   },
   "outputs": [
    {
     "name": "stdout",
     "output_type": "stream",
     "text": [
      "     fun: 19.072902082882386\n",
      "     jac: array([ 1.30171156,  0.        ,  0.        ,  0.        ,  0.        ,\n",
      "        0.        ,  0.        ,  0.        ,  0.        ,  0.        ,\n",
      "        0.        ,  0.        ,  0.        ,  0.        ,  0.        ,\n",
      "        0.        ,  0.        ,  0.        ,  0.        ,  0.        ,\n",
      "        0.        ,  0.        ,  0.        ,  0.        ,  0.        ,\n",
      "        0.        ,  0.        ,  0.        ,  0.        ,  0.        ,\n",
      "        0.        ,  0.        ,  0.        ,  0.        ,  0.        ,\n",
      "        0.        ,  0.        ,  0.        ,  0.        ,  0.        ,\n",
      "        0.        ,  0.        ,  0.        ,  0.        ,  0.        ,\n",
      "        0.        ,  0.        ,  0.        ,  0.        ,  0.        ,\n",
      "        0.        ,  0.        ,  0.        ,  0.        ,  0.        ,\n",
      "        0.        ,  0.        ,  0.        ,  0.        ,  0.        ,\n",
      "        0.        ,  0.        ,  0.        ,  0.        ,  0.        ,\n",
      "        0.        ,  0.        ,  0.        ,  0.        ,  0.        ,\n",
      "        0.        ,  0.        ,  0.        ,  0.        ,  0.        ,\n",
      "        0.        ,  0.        ,  0.        ,  0.        ,  0.        ,\n",
      "        0.        ,  0.        ,  0.        ,  0.        ,  0.        ,\n",
      "        0.        ,  0.        ,  0.        ,  0.        ,  0.        ,\n",
      "        0.        ,  0.        ,  0.        ,  0.        ,  0.        ,\n",
      "        0.        ,  0.        ,  0.        ,  0.        ,  0.        ,\n",
      "        0.        ,  0.        ,  0.        ,  0.        ,  0.        ,\n",
      "        0.        ,  0.        ,  0.        ,  0.        ,  0.        ,\n",
      "        0.        ,  0.        ,  0.        ,  0.        ,  0.        ,\n",
      "        0.        ,  0.        ,  0.        ,  0.        ,  0.        ,\n",
      "        0.        ,  0.        ,  0.        ,  0.        ,  0.        ,\n",
      "        0.        ,  0.        ,  0.        ,  0.        ,  0.        ,\n",
      "        0.        ,  0.        ,  0.        ,  0.        ,  0.        ,\n",
      "        0.        ,  0.        ,  0.        ,  0.        ,  0.        ,\n",
      "        0.        ,  0.        ,  0.        ,  0.        ,  0.        ,\n",
      "        0.        ,  0.        ,  0.        ,  0.        ,  0.        ,\n",
      "        0.        ,  0.        ,  0.        ,  0.        ,  0.29304338,\n",
      "       -0.4589262 ,  0.29304338, -0.3720572 ,  0.29304338, -0.29904556,\n",
      "        0.29304338, -0.23895645,  0.29304338, -0.19016385,  0.29304338,\n",
      "       -0.1508522 ,  0.29304338, -0.11931634,  0.29304338, -0.09405303,\n",
      "        0.29304338, -0.07379436,  0.29304338, -0.05748987,  0.29304338,\n",
      "       -0.04428077,  0.29304338, -0.03346157,  0.29304338, -0.02444148,\n",
      "        0.29304338, -0.01673508,  0.29304338, -0.00992298,  0.29304338,\n",
      "       -0.0036335 ,  0.29304338,  0.00244737,  0.29304338,  0.00863314,\n",
      "        0.29304338,  0.01523447,  0.29304338,  0.02259398,  0.29304338,\n",
      "        0.03128886,  0.29304338,  0.04167128,  0.29304338,  0.05431652,\n",
      "        0.29304338,  0.0699954 ,  0.29304338,  0.08923173,  0.29304338,\n",
      "        0.07132173,  0.29304338,  0.05729198,  0.29304338,  0.04624557,\n",
      "        0.29304338,  0.03744721,  0.29304338,  0.0307641 ,  0.29304338,\n",
      "        0.02581882,  0.29304338,  0.02233028,  0.29304338,  0.02009273,\n",
      "        0.29304338,  0.01894665,  0.29304338,  0.01878285,  0.29304338,\n",
      "        0.01961064,  0.29304338,  0.02147675,  0.29304338,  0.02447343,\n",
      "        0.29304338,  0.02875853,  0.29304338,  0.03455091,  0.29304338,\n",
      "        0.04215288,  0.29304338,  0.05196571,  0.29304338,  0.0645051 ,\n",
      "        0.29304338,  0.08042479,  0.29304338,  0.10054255,  0.29304338,\n",
      "        0.12586975,  0.29304338,  0.15763474,  0.29304338,  0.19729233,\n",
      "        0.29304338,  0.24648833,  0.29304338,  0.3069346 ])\n",
      " message: 'Optimization terminated successfully'\n",
      "    nfev: 8927\n",
      "     nit: 35\n",
      "    njev: 35\n",
      "  status: 0\n",
      " success: True\n",
      "       x: array([ 1.46519491e+01,  1.36292497e-19, -2.63378287e-20,  1.57079633e+00,\n",
      "        9.08019319e-18,  1.46519491e-01,  1.34126018e+00,  3.33369730e-02,\n",
      "        2.89196075e-01,  1.15516464e+00,  9.24968430e-02,  4.23241110e-01,\n",
      "        1.00560229e+00,  1.70969708e-01,  5.46974579e-01,  8.86109529e-01,\n",
      "        2.63633095e-01,  6.60471093e-01,  7.91029681e-01,  3.66652930e-01,\n",
      "        7.64657827e-01,  7.15620365e-01,  4.77229195e-01,  8.60787174e-01,\n",
      "        6.55993366e-01,  5.93337456e-01,  9.50156259e-01,  6.09010886e-01,\n",
      "        7.13514831e-01,  1.03397368e+00,  5.72166949e-01,  8.36698110e-01,\n",
      "        1.11330741e+00,  5.43478985e-01,  9.62106315e-01,  1.18907511e+00,\n",
      "        5.21395096e-01,  1.08915705e+00,  1.26205505e+00,  5.04719241e-01,\n",
      "        1.21740707e+00,  1.33290627e+00,  4.92547939e-01,  1.34650991e+00,\n",
      "        1.40219130e+00,  4.84208496e-01,  1.47618606e+00,  1.47039730e+00,\n",
      "        4.79261185e-01,  1.60619806e+00,  1.53796091e+00,  4.77444042e-01,\n",
      "        1.73633262e+00,  1.60528817e+00,  4.78644664e-01,  1.86638625e+00,\n",
      "        1.67277161e+00,  4.82914878e-01,  1.99615053e+00,  1.74080980e+00,\n",
      "        4.90476435e-01,  2.12539662e+00,  1.80982725e+00,  5.01739169e-01,\n",
      "        2.25385721e+00,  1.88029596e+00,  5.17322258e-01,  2.38120412e+00,\n",
      "        1.95275784e+00,  5.38096108e-01,  2.50701836e+00,  2.02784939e+00,\n",
      "        5.65221300e-01,  2.63074968e+00,  2.10632562e+00,  6.00233117e-01,\n",
      "        2.75165815e+00,  2.18908494e+00,  6.44788940e-01,  2.86876043e+00,\n",
      "        2.27714751e+00,  6.80425344e-01,  2.98265079e+00,  2.36932640e+00,\n",
      "        7.09069302e-01,  3.09385443e+00,  2.46472930e+00,  7.32177755e-01,\n",
      "        3.20282396e+00,  2.56267624e+00,  7.50978169e-01,  3.30993290e+00,\n",
      "        2.66265442e+00,  7.66465977e-01,  3.41548061e+00,  2.76427943e+00,\n",
      "        7.79477080e-01,  3.51969717e+00,  2.86726909e+00,  7.90723928e-01,\n",
      "        3.62274885e+00,  2.97142432e+00,  8.00823748e-01,  3.72474335e+00,\n",
      "        3.07661503e+00,  8.10323509e-01,  3.82573398e+00,  3.18276990e+00,\n",
      "        8.19730056e-01,  3.92572160e+00,  3.28987003e+00,  8.29530735e-01,\n",
      "        4.02465478e+00,  3.39794495e+00,  8.40244045e-01,  4.12242447e+00,\n",
      "        3.50707354e+00,  8.52436254e-01,  4.21885640e+00,  3.61738603e+00,\n",
      "        8.66759015e-01,  4.31369852e+00,  3.72906832e+00,  8.83972008e-01,\n",
      "        4.40660429e+00,  3.84236651e+00,  9.04983869e-01,  4.49710913e+00,\n",
      "        3.95759166e+00,  9.30902730e-01,  4.58459739e+00,  4.07512363e+00,\n",
      "        9.63095058e-01,  4.66825736e+00,  4.19541067e+00,  1.00325509e+00,\n",
      "        4.74702043e+00,  4.31895961e+00,  1.05348729e+00,  4.81948063e+00,\n",
      "        4.44630748e+00,  1.11640242e+00,  4.88379065e+00,  4.57795924e+00,\n",
      "        1.19522594e+00,  4.93753447e+00,  4.71426611e+00,  1.29390985e+00,\n",
      "        4.97758734e+00,  4.85520485e+00,  1.41722632e+00,  5.00000000e+00,\n",
      "        5.00000000e+00,  1.57079633e+00,  5.00000000e-01, -7.83295591e-01,\n",
      "        5.00000000e-01, -6.35053868e-01,  5.00000000e-01, -5.10383822e-01,\n",
      "        5.00000000e-01, -4.07770862e-01,  5.00000000e-01, -3.24461432e-01,\n",
      "        5.00000000e-01, -2.57335445e-01,  5.00000000e-01, -2.03478047e-01,\n",
      "        5.00000000e-01, -1.60328433e-01,  5.00000000e-01, -1.25730501e-01,\n",
      "        5.00000000e-01, -9.78981189e-02,  5.00000000e-01, -7.53616110e-02,\n",
      "        5.00000000e-01, -5.69066114e-02,  5.00000000e-01, -4.15347570e-02,\n",
      "        5.00000000e-01, -2.84584785e-02,  5.00000000e-01, -1.68827754e-02,\n",
      "        5.00000000e-01, -6.20102590e-03,  5.00000000e-01,  4.09714239e-03,\n",
      "        5.00000000e-01,  1.45721710e-02,  5.00000000e-01,  2.58039332e-02,\n",
      "        5.00000000e-01,  3.84342528e-02,  5.00000000e-01,  5.31775330e-02,\n",
      "        5.00000000e-01,  7.08910821e-02,  5.00000000e-01,  9.25651332e-02,\n",
      "        5.00000000e-01,  1.19478360e-01,  5.00000000e-01,  1.52047430e-01,\n",
      "        5.00000000e-01,  1.21609775e-01,  5.00000000e-01,  9.77479422e-02,\n",
      "        5.00000000e-01,  7.88579491e-02,  5.00000000e-01,  6.41566978e-02,\n",
      "        5.00000000e-01,  5.28523762e-02,  5.00000000e-01,  4.44005816e-02,\n",
      "        5.00000000e-01,  3.83800343e-02,  5.00000000e-01,  3.44657885e-02,\n",
      "        5.00000000e-01,  3.24180767e-02,  5.00000000e-01,  3.20999854e-02,\n",
      "        5.00000000e-01,  3.34449673e-02,  5.00000000e-01,  3.65593367e-02,\n",
      "        5.00000000e-01,  4.16060999e-02,  5.00000000e-01,  4.88766437e-02,\n",
      "        5.00000000e-01,  5.87396036e-02,  5.00000000e-01,  7.17033003e-02,\n",
      "        5.00000000e-01,  8.84485135e-02,  5.00000000e-01,  1.09856813e-01,\n",
      "        5.00000000e-01,  1.37046725e-01,  5.00000000e-01,  1.71418156e-01,\n",
      "        5.00000000e-01,  2.14698837e-01,  5.00000000e-01,  2.68986469e-01,\n",
      "        5.00000000e-01,  3.36760340e-01,  5.00000000e-01,  4.20819347e-01,\n",
      "        5.00000000e-01,  5.24059981e-01])\n"
     ]
    }
   ],
   "source": [
    "# Call the trajectory optimizer\n",
    "t, s, u = optimize_trajectory()"
   ]
  },
  {
   "cell_type": "code",
   "execution_count": 41,
   "metadata": {
    "id": "WX-R-89YXVbK"
   },
   "outputs": [
    {
     "data": {
      "image/png": "[encoded data removed]",
      "text/plain": [
       "<Figure size 640x480 with 1 Axes>"
      ]
     },
     "metadata": {},
     "output_type": "display_data"
    }
   ],
   "source": [
    "# Plot optimized trajectory\n",
    "plt = render_scene(s)\n",
    "plt.show()"
   ]
  },
  {
   "cell_type": "markdown",
   "metadata": {
    "id": "_JNEkklO1yTS"
   },
   "source": [
    "Let's write a small wrapper function which gives us a plot of the trajectory for a given value of alpha"
   ]
  },
  {
   "cell_type": "code",
   "execution_count": 42,
   "metadata": {
    "id": "ePmxqd0V16Gq"
   },
   "outputs": [],
   "source": [
    "def show_traj_plan(alpha=1.0):\n",
    "  t, s, u = optimize_trajectory(time_weight=alpha)\n",
    "  plt = render_scene(s, print_alpha=alpha)\n",
    "  plt.show()"
   ]
  },
  {
   "cell_type": "markdown",
   "metadata": {
    "id": "nvJ5yJ-V2IbY"
   },
   "source": [
    "## Varying alpha\n",
    "Let us now experiment with different values of alpha to see how the output changes. We have included three examples below, but feel free to experiment with other values as well!"
   ]
  },
  {
   "cell_type": "code",
   "execution_count": 43,
   "metadata": {
    "id": "zycxbTK72hRL"
   },
   "outputs": [
    {
     "name": "stdout",
     "output_type": "stream",
     "text": [
      "     fun: 19.072902082882386\n",
      "     jac: array([ 1.30171156,  0.        ,  0.        ,  0.        ,  0.        ,\n",
      "        0.        ,  0.        ,  0.        ,  0.        ,  0.        ,\n",
      "        0.        ,  0.        ,  0.        ,  0.        ,  0.        ,\n",
      "        0.        ,  0.        ,  0.        ,  0.        ,  0.        ,\n",
      "        0.        ,  0.        ,  0.        ,  0.        ,  0.        ,\n",
      "        0.        ,  0.        ,  0.        ,  0.        ,  0.        ,\n",
      "        0.        ,  0.        ,  0.        ,  0.        ,  0.        ,\n",
      "        0.        ,  0.        ,  0.        ,  0.        ,  0.        ,\n",
      "        0.        ,  0.        ,  0.        ,  0.        ,  0.        ,\n",
      "        0.        ,  0.        ,  0.        ,  0.        ,  0.        ,\n",
      "        0.        ,  0.        ,  0.        ,  0.        ,  0.        ,\n",
      "        0.        ,  0.        ,  0.        ,  0.        ,  0.        ,\n",
      "        0.        ,  0.        ,  0.        ,  0.        ,  0.        ,\n",
      "        0.        ,  0.        ,  0.        ,  0.        ,  0.        ,\n",
      "        0.        ,  0.        ,  0.        ,  0.        ,  0.        ,\n",
      "        0.        ,  0.        ,  0.        ,  0.        ,  0.        ,\n",
      "        0.        ,  0.        ,  0.        ,  0.        ,  0.        ,\n",
      "        0.        ,  0.        ,  0.        ,  0.        ,  0.        ,\n",
      "        0.        ,  0.        ,  0.        ,  0.        ,  0.        ,\n",
      "        0.        ,  0.        ,  0.        ,  0.        ,  0.        ,\n",
      "        0.        ,  0.        ,  0.        ,  0.        ,  0.        ,\n",
      "        0.        ,  0.        ,  0.        ,  0.        ,  0.        ,\n",
      "        0.        ,  0.        ,  0.        ,  0.        ,  0.        ,\n",
      "        0.        ,  0.        ,  0.        ,  0.        ,  0.        ,\n",
      "        0.        ,  0.        ,  0.        ,  0.        ,  0.        ,\n",
      "        0.        ,  0.        ,  0.        ,  0.        ,  0.        ,\n",
      "        0.        ,  0.        ,  0.        ,  0.        ,  0.        ,\n",
      "        0.        ,  0.        ,  0.        ,  0.        ,  0.        ,\n",
      "        0.        ,  0.        ,  0.        ,  0.        ,  0.        ,\n",
      "        0.        ,  0.        ,  0.        ,  0.        ,  0.        ,\n",
      "        0.        ,  0.        ,  0.        ,  0.        ,  0.29304338,\n",
      "       -0.4589262 ,  0.29304338, -0.3720572 ,  0.29304338, -0.29904556,\n",
      "        0.29304338, -0.23895645,  0.29304338, -0.19016385,  0.29304338,\n",
      "       -0.1508522 ,  0.29304338, -0.11931634,  0.29304338, -0.09405303,\n",
      "        0.29304338, -0.07379436,  0.29304338, -0.05748987,  0.29304338,\n",
      "       -0.04428077,  0.29304338, -0.03346157,  0.29304338, -0.02444148,\n",
      "        0.29304338, -0.01673508,  0.29304338, -0.00992298,  0.29304338,\n",
      "       -0.0036335 ,  0.29304338,  0.00244737,  0.29304338,  0.00863314,\n",
      "        0.29304338,  0.01523447,  0.29304338,  0.02259398,  0.29304338,\n",
      "        0.03128886,  0.29304338,  0.04167128,  0.29304338,  0.05431652,\n",
      "        0.29304338,  0.0699954 ,  0.29304338,  0.08923173,  0.29304338,\n",
      "        0.07132173,  0.29304338,  0.05729198,  0.29304338,  0.04624557,\n",
      "        0.29304338,  0.03744721,  0.29304338,  0.0307641 ,  0.29304338,\n",
      "        0.02581882,  0.29304338,  0.02233028,  0.29304338,  0.02009273,\n",
      "        0.29304338,  0.01894665,  0.29304338,  0.01878285,  0.29304338,\n",
      "        0.01961064,  0.29304338,  0.02147675,  0.29304338,  0.02447343,\n",
      "        0.29304338,  0.02875853,  0.29304338,  0.03455091,  0.29304338,\n",
      "        0.04215288,  0.29304338,  0.05196571,  0.29304338,  0.0645051 ,\n",
      "        0.29304338,  0.08042479,  0.29304338,  0.10054255,  0.29304338,\n",
      "        0.12586975,  0.29304338,  0.15763474,  0.29304338,  0.19729233,\n",
      "        0.29304338,  0.24648833,  0.29304338,  0.3069346 ])\n",
      " message: 'Optimization terminated successfully'\n",
      "    nfev: 8927\n",
      "     nit: 35\n",
      "    njev: 35\n",
      "  status: 0\n",
      " success: True\n",
      "       x: array([ 1.46519491e+01,  1.36292497e-19, -2.63378287e-20,  1.57079633e+00,\n",
      "        9.08019319e-18,  1.46519491e-01,  1.34126018e+00,  3.33369730e-02,\n",
      "        2.89196075e-01,  1.15516464e+00,  9.24968430e-02,  4.23241110e-01,\n",
      "        1.00560229e+00,  1.70969708e-01,  5.46974579e-01,  8.86109529e-01,\n",
      "        2.63633095e-01,  6.60471093e-01,  7.91029681e-01,  3.66652930e-01,\n",
      "        7.64657827e-01,  7.15620365e-01,  4.77229195e-01,  8.60787174e-01,\n",
      "        6.55993366e-01,  5.93337456e-01,  9.50156259e-01,  6.09010886e-01,\n",
      "        7.13514831e-01,  1.03397368e+00,  5.72166949e-01,  8.36698110e-01,\n",
      "        1.11330741e+00,  5.43478985e-01,  9.62106315e-01,  1.18907511e+00,\n",
      "        5.21395096e-01,  1.08915705e+00,  1.26205505e+00,  5.04719241e-01,\n",
      "        1.21740707e+00,  1.33290627e+00,  4.92547939e-01,  1.34650991e+00,\n",
      "        1.40219130e+00,  4.84208496e-01,  1.47618606e+00,  1.47039730e+00,\n",
      "        4.79261185e-01,  1.60619806e+00,  1.53796091e+00,  4.77444042e-01,\n",
      "        1.73633262e+00,  1.60528817e+00,  4.78644664e-01,  1.86638625e+00,\n",
      "        1.67277161e+00,  4.82914878e-01,  1.99615053e+00,  1.74080980e+00,\n",
      "        4.90476435e-01,  2.12539662e+00,  1.80982725e+00,  5.01739169e-01,\n",
      "        2.25385721e+00,  1.88029596e+00,  5.17322258e-01,  2.38120412e+00,\n",
      "        1.95275784e+00,  5.38096108e-01,  2.50701836e+00,  2.02784939e+00,\n",
      "        5.65221300e-01,  2.63074968e+00,  2.10632562e+00,  6.00233117e-01,\n",
      "        2.75165815e+00,  2.18908494e+00,  6.44788940e-01,  2.86876043e+00,\n",
      "        2.27714751e+00,  6.80425344e-01,  2.98265079e+00,  2.36932640e+00,\n",
      "        7.09069302e-01,  3.09385443e+00,  2.46472930e+00,  7.32177755e-01,\n",
      "        3.20282396e+00,  2.56267624e+00,  7.50978169e-01,  3.30993290e+00,\n",
      "        2.66265442e+00,  7.66465977e-01,  3.41548061e+00,  2.76427943e+00,\n",
      "        7.79477080e-01,  3.51969717e+00,  2.86726909e+00,  7.90723928e-01,\n",
      "        3.62274885e+00,  2.97142432e+00,  8.00823748e-01,  3.72474335e+00,\n",
      "        3.07661503e+00,  8.10323509e-01,  3.82573398e+00,  3.18276990e+00,\n",
      "        8.19730056e-01,  3.92572160e+00,  3.28987003e+00,  8.29530735e-01,\n",
      "        4.02465478e+00,  3.39794495e+00,  8.40244045e-01,  4.12242447e+00,\n",
      "        3.50707354e+00,  8.52436254e-01,  4.21885640e+00,  3.61738603e+00,\n",
      "        8.66759015e-01,  4.31369852e+00,  3.72906832e+00,  8.83972008e-01,\n",
      "        4.40660429e+00,  3.84236651e+00,  9.04983869e-01,  4.49710913e+00,\n",
      "        3.95759166e+00,  9.30902730e-01,  4.58459739e+00,  4.07512363e+00,\n",
      "        9.63095058e-01,  4.66825736e+00,  4.19541067e+00,  1.00325509e+00,\n",
      "        4.74702043e+00,  4.31895961e+00,  1.05348729e+00,  4.81948063e+00,\n",
      "        4.44630748e+00,  1.11640242e+00,  4.88379065e+00,  4.57795924e+00,\n",
      "        1.19522594e+00,  4.93753447e+00,  4.71426611e+00,  1.29390985e+00,\n",
      "        4.97758734e+00,  4.85520485e+00,  1.41722632e+00,  5.00000000e+00,\n",
      "        5.00000000e+00,  1.57079633e+00,  5.00000000e-01, -7.83295591e-01,\n",
      "        5.00000000e-01, -6.35053868e-01,  5.00000000e-01, -5.10383822e-01,\n",
      "        5.00000000e-01, -4.07770862e-01,  5.00000000e-01, -3.24461432e-01,\n",
      "        5.00000000e-01, -2.57335445e-01,  5.00000000e-01, -2.03478047e-01,\n",
      "        5.00000000e-01, -1.60328433e-01,  5.00000000e-01, -1.25730501e-01,\n",
      "        5.00000000e-01, -9.78981189e-02,  5.00000000e-01, -7.53616110e-02,\n",
      "        5.00000000e-01, -5.69066114e-02,  5.00000000e-01, -4.15347570e-02,\n",
      "        5.00000000e-01, -2.84584785e-02,  5.00000000e-01, -1.68827754e-02,\n",
      "        5.00000000e-01, -6.20102590e-03,  5.00000000e-01,  4.09714239e-03,\n",
      "        5.00000000e-01,  1.45721710e-02,  5.00000000e-01,  2.58039332e-02,\n",
      "        5.00000000e-01,  3.84342528e-02,  5.00000000e-01,  5.31775330e-02,\n",
      "        5.00000000e-01,  7.08910821e-02,  5.00000000e-01,  9.25651332e-02,\n",
      "        5.00000000e-01,  1.19478360e-01,  5.00000000e-01,  1.52047430e-01,\n",
      "        5.00000000e-01,  1.21609775e-01,  5.00000000e-01,  9.77479422e-02,\n",
      "        5.00000000e-01,  7.88579491e-02,  5.00000000e-01,  6.41566978e-02,\n",
      "        5.00000000e-01,  5.28523762e-02,  5.00000000e-01,  4.44005816e-02,\n",
      "        5.00000000e-01,  3.83800343e-02,  5.00000000e-01,  3.44657885e-02,\n",
      "        5.00000000e-01,  3.24180767e-02,  5.00000000e-01,  3.20999854e-02,\n",
      "        5.00000000e-01,  3.34449673e-02,  5.00000000e-01,  3.65593367e-02,\n",
      "        5.00000000e-01,  4.16060999e-02,  5.00000000e-01,  4.88766437e-02,\n",
      "        5.00000000e-01,  5.87396036e-02,  5.00000000e-01,  7.17033003e-02,\n",
      "        5.00000000e-01,  8.84485135e-02,  5.00000000e-01,  1.09856813e-01,\n",
      "        5.00000000e-01,  1.37046725e-01,  5.00000000e-01,  1.71418156e-01,\n",
      "        5.00000000e-01,  2.14698837e-01,  5.00000000e-01,  2.68986469e-01,\n",
      "        5.00000000e-01,  3.36760340e-01,  5.00000000e-01,  4.20819347e-01,\n",
      "        5.00000000e-01,  5.24059981e-01])\n"
     ]
    },
    {
     "data": {
      "image/png": "[encoded data removed]",
      "text/plain": [
       "<Figure size 640x480 with 1 Axes>"
      ]
     },
     "metadata": {},
     "output_type": "display_data"
    }
   ],
   "source": [
    "show_traj_plan(alpha=1.0)"
   ]
  },
  {
   "cell_type": "code",
   "execution_count": 44,
   "metadata": {
    "id": "De2z_OQB3SRr"
   },
   "outputs": [
    {
     "name": "stdout",
     "output_type": "stream",
     "text": [
      "     fun: 293.07424723563645\n",
      "     jac: array([ 2.03463631e+01,  0.00000000e+00,  0.00000000e+00,  0.00000000e+00,\n",
      "        0.00000000e+00,  0.00000000e+00,  0.00000000e+00,  0.00000000e+00,\n",
      "        0.00000000e+00,  0.00000000e+00,  0.00000000e+00,  0.00000000e+00,\n",
      "        0.00000000e+00,  0.00000000e+00,  0.00000000e+00,  0.00000000e+00,\n",
      "        0.00000000e+00,  0.00000000e+00,  0.00000000e+00,  0.00000000e+00,\n",
      "        0.00000000e+00,  0.00000000e+00,  0.00000000e+00,  0.00000000e+00,\n",
      "        0.00000000e+00,  0.00000000e+00,  0.00000000e+00,  0.00000000e+00,\n",
      "        0.00000000e+00,  0.00000000e+00,  0.00000000e+00,  0.00000000e+00,\n",
      "        0.00000000e+00,  0.00000000e+00,  0.00000000e+00,  0.00000000e+00,\n",
      "        0.00000000e+00,  0.00000000e+00,  0.00000000e+00,  0.00000000e+00,\n",
      "        0.00000000e+00,  0.00000000e+00,  0.00000000e+00,  0.00000000e+00,\n",
      "        0.00000000e+00,  0.00000000e+00,  0.00000000e+00,  0.00000000e+00,\n",
      "        0.00000000e+00,  0.00000000e+00,  0.00000000e+00,  0.00000000e+00,\n",
      "        0.00000000e+00,  0.00000000e+00,  0.00000000e+00,  0.00000000e+00,\n",
      "        0.00000000e+00,  0.00000000e+00,  0.00000000e+00,  0.00000000e+00,\n",
      "        0.00000000e+00,  0.00000000e+00,  0.00000000e+00,  0.00000000e+00,\n",
      "        0.00000000e+00,  0.00000000e+00,  0.00000000e+00,  0.00000000e+00,\n",
      "        0.00000000e+00,  0.00000000e+00,  0.00000000e+00,  0.00000000e+00,\n",
      "        0.00000000e+00,  0.00000000e+00,  0.00000000e+00,  0.00000000e+00,\n",
      "        0.00000000e+00,  0.00000000e+00,  0.00000000e+00,  0.00000000e+00,\n",
      "        0.00000000e+00,  0.00000000e+00,  0.00000000e+00,  0.00000000e+00,\n",
      "        0.00000000e+00,  0.00000000e+00,  0.00000000e+00,  0.00000000e+00,\n",
      "        0.00000000e+00,  0.00000000e+00,  0.00000000e+00,  0.00000000e+00,\n",
      "        0.00000000e+00,  0.00000000e+00,  0.00000000e+00,  0.00000000e+00,\n",
      "        0.00000000e+00,  0.00000000e+00,  0.00000000e+00,  0.00000000e+00,\n",
      "        0.00000000e+00,  0.00000000e+00,  0.00000000e+00,  0.00000000e+00,\n",
      "        0.00000000e+00,  0.00000000e+00,  0.00000000e+00,  0.00000000e+00,\n",
      "        0.00000000e+00,  0.00000000e+00,  0.00000000e+00,  0.00000000e+00,\n",
      "        0.00000000e+00,  0.00000000e+00,  0.00000000e+00,  0.00000000e+00,\n",
      "        0.00000000e+00,  0.00000000e+00,  0.00000000e+00,  0.00000000e+00,\n",
      "        0.00000000e+00,  0.00000000e+00,  0.00000000e+00,  0.00000000e+00,\n",
      "        0.00000000e+00,  0.00000000e+00,  0.00000000e+00,  0.00000000e+00,\n",
      "        0.00000000e+00,  0.00000000e+00,  0.00000000e+00,  0.00000000e+00,\n",
      "        0.00000000e+00,  0.00000000e+00,  0.00000000e+00,  0.00000000e+00,\n",
      "        0.00000000e+00,  0.00000000e+00,  0.00000000e+00,  0.00000000e+00,\n",
      "        0.00000000e+00,  0.00000000e+00,  0.00000000e+00,  0.00000000e+00,\n",
      "        0.00000000e+00,  0.00000000e+00,  0.00000000e+00,  0.00000000e+00,\n",
      "        0.00000000e+00,  0.00000000e+00,  0.00000000e+00,  0.00000000e+00,\n",
      "        0.00000000e+00,  0.00000000e+00,  2.88085938e-01, -5.76171875e-01,\n",
      "        2.88085938e-01, -5.11360168e-01,  2.88085938e-01, -2.11887360e-01,\n",
      "        2.88085938e-01, -8.76045227e-02,  2.88085938e-01, -3.62815857e-02,\n",
      "        2.88085938e-01, -1.50375366e-02,  2.88085938e-01, -6.22558594e-03,\n",
      "        2.88085938e-01, -2.54821777e-03,  2.88085938e-01, -9.99450684e-04,\n",
      "        2.88085938e-01, -3.54766846e-04,  2.88085938e-01, -1.14440918e-04,\n",
      "        2.88085938e-01, -6.86645508e-05,  2.88085938e-01, -8.77380371e-05,\n",
      "        2.88085938e-01, -8.77380371e-05,  2.88085938e-01, -9.91821289e-05,\n",
      "        2.88085938e-01, -1.14440918e-04,  2.88085938e-01, -2.09808350e-04,\n",
      "        2.88085938e-01, -4.31060791e-04,  2.88085938e-01, -9.57489014e-04,\n",
      "        2.88085938e-01, -2.23922729e-03,  2.88085938e-01, -5.45120239e-03,\n",
      "        2.88085938e-01, -1.33514404e-02,  2.88085938e-01, -3.25431824e-02,\n",
      "        2.88085938e-01, -7.85827637e-02,  2.88085938e-01, -1.90464020e-01,\n",
      "        2.88085938e-01, -7.80143738e-02,  2.88085938e-01, -3.20701599e-02,\n",
      "        2.88085938e-01, -1.31988525e-02,  2.88085938e-01, -5.42068481e-03,\n",
      "        2.88085938e-01, -2.18200684e-03,  2.88085938e-01, -9.19342041e-04,\n",
      "        2.88085938e-01, -3.70025635e-04,  2.88085938e-01, -1.48773193e-04,\n",
      "        2.88085938e-01, -4.19616699e-05,  2.88085938e-01, -1.14440918e-05,\n",
      "        2.88085938e-01, -1.14440918e-05,  2.88085938e-01,  2.67028809e-05,\n",
      "        2.88085938e-01,  6.86645508e-05,  2.88085938e-01,  1.29699707e-04,\n",
      "        2.88085938e-01,  3.70025635e-04,  2.88085938e-01,  8.62121582e-04,\n",
      "        2.88085938e-01,  2.06375122e-03,  2.88085938e-01,  5.23757935e-03,\n",
      "        2.88085938e-01,  1.25961304e-02,  2.88085938e-01,  3.07388306e-02,\n",
      "        2.88085938e-01,  7.50465393e-02,  2.88085938e-01,  1.82556152e-01,\n",
      "        2.88085938e-01,  4.43626404e-01,  2.88085938e-01,  5.76171875e-01,\n",
      "        2.88085938e-01,  5.76171875e-01])\n",
      " message: 'Optimization terminated successfully'\n",
      "    nfev: 8416\n",
      "     nit: 33\n",
      "    njev: 33\n",
      "  status: 0\n",
      " success: True\n",
      "       x: array([ 1.44042564e+01, -4.27143330e-20,  5.80871864e-21,  1.57079633e+00,\n",
      "        8.78034353e-18,  1.44042564e-01,  1.28271120e+00,  4.09249104e-02,\n",
      "        2.82149087e-01,  1.02703190e+00,  1.15446934e-01,  4.05415986e-01,\n",
      "        9.21088202e-01,  2.02586063e-01,  5.20111378e-01,  8.77286531e-01,\n",
      "        2.94663857e-01,  6.30881141e-01,  8.59145752e-01,  3.88735840e-01,\n",
      "        7.39962406e-01,  8.51627642e-01,  4.83625241e-01,  8.48333351e-01,\n",
      "        8.48515525e-01,  5.78851445e-01,  9.56408465e-01,  8.47242348e-01,\n",
      "        6.74215171e-01,  1.06436225e+00,  8.46743478e-01,  7.69632740e-01,\n",
      "        1.17226845e+00,  8.46566038e-01,  8.65069454e-01,  1.28015772e+00,\n",
      "        8.46508044e-01,  9.60512424e-01,  1.38804145e+00,  8.46474386e-01,\n",
      "        1.05595903e+00,  1.49592197e+00,  8.46429682e-01,  1.15141045e+00,\n",
      "        1.60379822e+00,  8.46385860e-01,  1.24686660e+00,  1.71167029e+00,\n",
      "        8.46335916e-01,  1.34232814e+00,  1.81953759e+00,  8.46277963e-01,\n",
      "        1.43779593e+00,  1.92739936e+00,  8.46173715e-01,  1.53327497e+00,\n",
      "        2.03525118e+00,  8.45959076e-01,  1.62877715e+00,  2.14308250e+00,\n",
      "        8.45480287e-01,  1.72433095e+00,  2.25086808e+00,  8.44360229e-01,\n",
      "        1.82000541e+00,  2.35854657e+00,  8.41633821e-01,  1.91597310e+00,\n",
      "        2.46596381e+00,  8.34957170e-01,  2.01265582e+00,  2.57273792e+00,\n",
      "        8.18684754e-01,  2.11106315e+00,  2.67792470e+00,  7.79392699e-01,\n",
      "        2.21352646e+00,  2.77916466e+00,  6.84159976e-01,  2.32515228e+00,\n",
      "        2.87020277e+00,  6.45151953e-01,  2.44024350e+00,  2.95681843e+00,\n",
      "        6.29116511e-01,  2.55670878e+00,  3.04157748e+00,  6.22517210e-01,\n",
      "        2.67373087e+00,  3.12556611e+00,  6.19806869e-01,  2.79098017e+00,\n",
      "        3.20923726e+00,  6.18715868e-01,  2.90832069e+00,  3.29278045e+00,\n",
      "        6.18256349e-01,  3.02569959e+00,  3.37626970e+00,  6.18071640e-01,\n",
      "        3.14309390e+00,  3.45973727e+00,  6.17997038e-01,  3.26049444e+00,\n",
      "        3.54319608e+00,  6.17975987e-01,  3.37789674e+00,  3.62665243e+00,\n",
      "        6.17970472e-01,  3.49529949e+00,  3.71010812e+00,  6.17965513e-01,\n",
      "        3.61270266e+00,  3.79356323e+00,  6.17978557e-01,  3.73010474e+00,\n",
      "        3.87701988e+00,  6.18012828e-01,  3.84750397e+00,  3.96048054e+00,\n",
      "        6.18077444e-01,  3.96489780e+00,  4.04394879e+00,  6.18262085e-01,\n",
      "        4.08227621e+00,  4.12743872e+00,  6.18692931e-01,  4.19961864e+00,\n",
      "        4.21097921e+00,  6.19725743e-01,  4.31687473e+00,  4.29464085e+00,\n",
      "        6.22344005e-01,  4.43391137e+00,  4.37860921e+00,  6.28642384e-01,\n",
      "        4.55041683e+00,  4.46331304e+00,  6.44011468e-01,  4.66560676e+00,\n",
      "        4.54979738e+00,  6.81535641e-01,  4.77747110e+00,  4.64054223e+00,\n",
      "        7.72812947e-01,  4.88059833e+00,  4.74110582e+00,  9.94626072e-01,\n",
      "        4.95907509e+00,  4.86189348e+00,  1.28271120e+00,  5.00000000e+00,\n",
      "        5.00000000e+00,  1.57079633e+00,  5.00000000e-01, -1.00000000e+00,\n",
      "        5.00000000e-01, -8.87513023e-01,  5.00000000e-01, -3.67751349e-01,\n",
      "        5.00000000e-01, -1.52044196e-01,  5.00000000e-01, -6.29702035e-02,\n",
      "        5.00000000e-01, -2.60968337e-02,  5.00000000e-01, -1.08027671e-02,\n",
      "        5.00000000e-01, -4.41944987e-03,  5.00000000e-01, -1.73167356e-03,\n",
      "        5.00000000e-01, -6.15929596e-04,  5.00000000e-01, -2.01307238e-04,\n",
      "        5.00000000e-01, -1.16836548e-04,  5.00000000e-01, -1.55173412e-04,\n",
      "        5.00000000e-01, -1.52114923e-04,  5.00000000e-01, -1.73365527e-04,\n",
      "        5.00000000e-01, -2.01168771e-04,  5.00000000e-01, -3.61865166e-04,\n",
      "        5.00000000e-01, -7.45053531e-04,  5.00000000e-01, -1.66197003e-03,\n",
      "        5.00000000e-01, -3.88793960e-03,  5.00000000e-01, -9.46389780e-03,\n",
      "        5.00000000e-01, -2.31759659e-02,  5.00000000e-01, -5.64847491e-02,\n",
      "        5.00000000e-01, -1.36390432e-01,  5.00000000e-01, -3.30571467e-01,\n",
      "        5.00000000e-01, -1.35404501e-01,  5.00000000e-01, -5.56621643e-02,\n",
      "        5.00000000e-01, -2.29074688e-02,  5.00000000e-01, -9.40812515e-03,\n",
      "        5.00000000e-01, -3.78707764e-03,  5.00000000e-01, -1.59508271e-03,\n",
      "        5.00000000e-01, -6.41159500e-04,  5.00000000e-01, -2.58958759e-04,\n",
      "        5.00000000e-01, -7.30729373e-05,  5.00000000e-01, -1.91418219e-05,\n",
      "        5.00000000e-01, -1.72151667e-05,  5.00000000e-01,  4.52785126e-05,\n",
      "        5.00000000e-01,  1.18962201e-04,  5.00000000e-01,  2.24292803e-04,\n",
      "        5.00000000e-01,  6.40926166e-04,  5.00000000e-01,  1.49555069e-03,\n",
      "        5.00000000e-01,  3.58509577e-03,  5.00000000e-01,  9.08850106e-03,\n",
      "        5.00000000e-01,  2.18629093e-02,  5.00000000e-01,  5.33491044e-02,\n",
      "        5.00000000e-01,  1.30253767e-01,  5.00000000e-01,  3.16841436e-01,\n",
      "        5.00000000e-01,  7.69956877e-01,  5.00000000e-01,  1.00000000e+00,\n",
      "        5.00000000e-01,  1.00000000e+00])\n"
     ]
    },
    {
     "data": {
      "image/png": "[encoded data removed]",
      "text/plain": [
       "<Figure size 640x480 with 1 Axes>"
      ]
     },
     "metadata": {},
     "output_type": "display_data"
    }
   ],
   "source": [
    "show_traj_plan(alpha=20.0)"
   ]
  }
 ],
 "metadata": {
  "colab": {
   "provenance": []
  },
  "kernelspec": {
   "display_name": "Python 3 (ipykernel)",
   "language": "python",
   "name": "python3"
  },
  "language_info": {
   "codemirror_mode": {
    "name": "ipython",
    "version": 3
   },
   "file_extension": ".py",
   "mimetype": "text/x-python",
   "name": "python",
   "nbconvert_exporter": "python",
   "pygments_lexer": "ipython3",
   "version": "3.10.12"
  }
 },
 "nbformat": 4,
 "nbformat_minor": 4
}
